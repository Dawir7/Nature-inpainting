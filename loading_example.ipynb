{
 "cells": [
  {
   "cell_type": "code",
   "execution_count": null,
   "metadata": {},
   "outputs": [],
   "source": [
    "import torch\n",
    "from torchvision import datasets, transforms\n",
    "import os\n",
    "from sklearn.model_selection import train_test_split\n",
    "from torch.utils.data import DataLoader\n",
    "import shutil\n",
    "import os\n",
    "from tqdm import tqdm\n",
    "from PIL import Image, ImageDraw\n",
    "import random\n",
    "\n",
    "img_size = 64 # 64 lub 128"
   ]
  },
  {
   "cell_type": "code",
   "execution_count": null,
   "metadata": {},
   "outputs": [],
   "source": [
    "class AddRandomBlackRectangle:\n",
    "    def __init__(self, min_size, max_size):\n",
    "        self.min_size = min_size\n",
    "        self.max_size = max_size\n",
    "\n",
    "    def __call__(self, img):\n",
    "        width, height = img.size\n",
    "        rect_width = random.randint(self.min_size, self.max_size)\n",
    "        rect_height = random.randint(self.min_size, self.max_size)\n",
    "        x = random.randint(0, width - rect_width)\n",
    "        y = random.randint(0, height - rect_height)\n",
    "        \n",
    "        # Create a new image with the same size as the original image\n",
    "        rect_img = Image.new('RGB', img.size, (0, 0, 0))\n",
    "        \n",
    "        # Create a new mask image with the same size as the original image\n",
    "        mask_img = Image.new('L', img.size, 0)\n",
    "        \n",
    "        # Draw a rectangle on the new image and the mask\n",
    "        draw_img = ImageDraw.Draw(rect_img)\n",
    "        draw_mask = ImageDraw.Draw(mask_img)\n",
    "        draw_img.rectangle([x, y, x + rect_width, y + rect_height], fill=\"black\")\n",
    "        draw_mask.rectangle([x, y, x + rect_width, y + rect_height], fill=255)\n",
    "        \n",
    "        # Rotate the new image and the mask\n",
    "        angle = random.randint(0, 90)\n",
    "        rect_img = rect_img.rotate(angle)\n",
    "        mask_img = mask_img.rotate(angle)\n",
    "        \n",
    "        # Paste the new image onto the original image using the mask\n",
    "        img.paste(rect_img, (0, 0), mask_img)\n",
    "        \n",
    "        return img"
   ]
  },
  {
   "cell_type": "code",
   "execution_count": null,
   "metadata": {},
   "outputs": [],
   "source": [
    "# Define a transform to normalize the data\n",
    "transform = transforms.Compose([\n",
    "    AddRandomBlackRectangle(img_size//5, img_size//4),\n",
    "    transforms.ToTensor(),\n",
    "    transforms.Normalize((0.5,), (0.5,)), # to nam powinno dać wartości między -1 a 1\n",
    "])\n",
    "\n",
    "dataset_path_train = f'Nature/divided_x{img_size}/train'\n",
    "dataset_path_val = f'Nature/divided_x{img_size}/val'\n",
    "dataset_path_test = f'Nature/divided_x{img_size}/test'"
   ]
  },
  {
   "cell_type": "code",
   "execution_count": null,
   "metadata": {},
   "outputs": [],
   "source": [
    "train_dataset = datasets.ImageFolder(dataset_path_train, transform=transform)\n",
    "val_dataset = datasets.ImageFolder(dataset_path_val, transform=transform)\n",
    "test_dataset = datasets.ImageFolder(dataset_path_test, transform=transform)\n",
    "\n",
    "print('train', len(train_dataset), 'val:', len(val_dataset), 'test:', len(test_dataset))"
   ]
  },
  {
   "cell_type": "code",
   "execution_count": null,
   "metadata": {},
   "outputs": [],
   "source": [
    "train_dl = DataLoader(train_dataset, batch_size=64, shuffle=True)\n",
    "val_dl = DataLoader(val_dataset, batch_size=64, shuffle=True)\n",
    "test_dl = DataLoader(test_dataset, batch_size=64, shuffle=True)"
   ]
  }
 ],
 "metadata": {
  "language_info": {
   "name": "python"
  }
 },
 "nbformat": 4,
 "nbformat_minor": 2
}
