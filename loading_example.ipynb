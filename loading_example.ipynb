{
 "cells": [
  {
   "cell_type": "code",
   "execution_count": 1,
   "metadata": {},
   "outputs": [],
   "source": [
    "import torch\n",
    "from torchvision import datasets, transforms\n",
    "import os\n",
    "from sklearn.model_selection import train_test_split\n",
    "from torch.utils.data import DataLoader\n",
    "import shutil\n",
    "import os\n",
    "from tqdm import tqdm\n",
    "from PIL import Image, ImageDraw\n",
    "import random\n",
    "\n",
    "img_size = 64 # 64 lub 128"
   ]
  },
  {
   "cell_type": "code",
   "execution_count": 2,
   "metadata": {},
   "outputs": [],
   "source": [
    "class AddRandomBlackRectangle:\n",
    "    def __init__(self, min_size, max_size):\n",
    "        self.min_size = min_size\n",
    "        self.max_size = max_size\n",
    "\n",
    "    def __call__(self, img):\n",
    "        width, height = img.size\n",
    "        rect_width = random.randint(self.min_size, self.max_size)\n",
    "        rect_height = random.randint(self.min_size, self.max_size)\n",
    "        x = random.randint(0, width - rect_width)\n",
    "        y = random.randint(0, height - rect_height)\n",
    "        \n",
    "        # Create a new image with the same size as the original image\n",
    "        rect_img = Image.new('RGB', img.size, (0, 0, 0))\n",
    "        \n",
    "        # Create a new mask image with the same size as the original image\n",
    "        mask_img = Image.new('L', img.size, 0)\n",
    "        \n",
    "        # Draw a rectangle on the new image and the mask\n",
    "        draw_img = ImageDraw.Draw(rect_img)\n",
    "        draw_mask = ImageDraw.Draw(mask_img)\n",
    "        draw_img.rectangle([x, y, x + rect_width, y + rect_height], fill=\"black\")\n",
    "        draw_mask.rectangle([x, y, x + rect_width, y + rect_height], fill=255)\n",
    "        \n",
    "        # Rotate the new image and the mask\n",
    "        angle = random.randint(0, 90)\n",
    "        rect_img = rect_img.rotate(angle)\n",
    "        mask_img = mask_img.rotate(angle)\n",
    "        \n",
    "        # Paste the new image onto the original image using the mask\n",
    "        img.paste(rect_img, (0, 0), mask_img)\n",
    "        \n",
    "        return img"
   ]
  },
  {
   "cell_type": "code",
   "execution_count": 5,
   "metadata": {},
   "outputs": [],
   "source": [
    "# Define a transform to normalize the data\n",
    "transform = transforms.Compose([\n",
    "    AddRandomBlackRectangle(img_size//5, img_size//4),\n",
    "    transforms.ToTensor(),\n",
    "    transforms.Normalize((0.5,), (0.5,)), # to nam powinno dać wartości między -1 a 1\n",
    "])\n",
    "\n",
    "dataset_path_train = f'data/divided_x{img_size}/train'\n",
    "dataset_path_val = f'data/divided_x{img_size}/val'\n",
    "dataset_path_test = f'data/divided_x{img_size}/test'"
   ]
  },
  {
   "cell_type": "code",
   "execution_count": 6,
   "metadata": {},
   "outputs": [
    {
     "name": "stdout",
     "output_type": "stream",
     "text": [
      "train 60579 val: 20194 test: 20196\n"
     ]
    }
   ],
   "source": [
    "train_dataset = datasets.ImageFolder(dataset_path_train, transform=transform)\n",
    "val_dataset = datasets.ImageFolder(dataset_path_val, transform=transform)\n",
    "test_dataset = datasets.ImageFolder(dataset_path_test, transform=transform)\n",
    "\n",
    "print('train', len(train_dataset), 'val:', len(val_dataset), 'test:', len(test_dataset))"
   ]
  },
  {
   "cell_type": "code",
   "execution_count": 7,
   "metadata": {},
   "outputs": [],
   "source": [
    "train_dl = DataLoader(train_dataset, batch_size=64, shuffle=True)\n",
    "val_dl = DataLoader(val_dataset, batch_size=64, shuffle=True)\n",
    "test_dl = DataLoader(test_dataset, batch_size=64, shuffle=True)"
   ]
  },
  {
   "cell_type": "code",
   "execution_count": 7,
   "metadata": {},
   "outputs": [
    {
     "name": "stderr",
     "output_type": "stream",
     "text": [
      "Loading images: 0it [00:00, ?it/s]\n",
      "Loading images: 100%|██████████| 5064/5064 [00:39<00:00, 128.51it/s]\n",
      "Loading images: 100%|██████████| 5085/5085 [00:38<00:00, 131.86it/s]\n",
      "Loading images: 100%|██████████| 5047/5047 [00:37<00:00, 133.19it/s]\n",
      "Loading images: 100%|██████████| 4998/4998 [00:39<00:00, 127.81it/s]\n"
     ]
    }
   ],
   "source": [
    "import os\n",
    "from PIL import Image\n",
    "import numpy as np\n",
    "import pickle\n",
    "from tqdm import tqdm\n",
    "\n",
    "# Directory containing the images\n",
    "image_dir = 'data/augmented_x64/val'\n",
    "\n",
    "# Initialize an empty list to store the image arrays\n",
    "image_arrays = []\n",
    "\n",
    "# Traverse the directory tree\n",
    "for root, dirs, files in os.walk(image_dir):\n",
    "    for file in tqdm(files, desc='Loading images'):\n",
    "        # Check if the file is an image (you can add more formats if needed)\n",
    "        if file.endswith('.jpg'):\n",
    "            # Construct the full file path\n",
    "            file_path = os.path.join(root, file)\n",
    "            # Open the image file, convert it to a numpy array, and append it to the list\n",
    "            image_arrays.append(np.array(Image.open(file_path)))\n",
    "\n",
    "# Serialize the list of numpy arrays with pickle\n",
    "with open('data/augmented_x64_val.pkl', 'wb') as f:\n",
    "    pickle.dump(image_arrays, f)"
   ]
  },
  {
   "cell_type": "code",
   "execution_count": null,
   "metadata": {},
   "outputs": [],
   "source": [
    "import os\n",
    "from PIL import Image\n",
    "import numpy as np\n",
    "import pickle\n",
    "from tqdm import tqdm\n",
    "\n",
    "\n",
    "def load_and_serialize_images(images_path: str) -> None:\n",
    "    \"\"\"\n",
    "    Load images from a directory and serialize them into a pickle file.\n",
    "\n",
    "    This function walks through the subdirectories 'val', 'train', and 'test' \n",
    "    in the given directory, loads all JPEG images, and serializes them into a \n",
    "    pickle file. The pickle file is saved in the parent directory of the given \n",
    "    directory, with the name in the format \"{dir_name}_{subdir}.pkl\".\n",
    "\n",
    "    Parameters\n",
    "    ----------\n",
    "    images_path : str\n",
    "        The path to the directory containing the images. This directory should \n",
    "        contain the subdirectories 'val', 'train', and 'test'.\n",
    "\n",
    "    Returns\n",
    "    -------\n",
    "    None\n",
    "    \"\"\"\n",
    "\n",
    "    subdirs = ['val', 'train', 'test']\n",
    "\n",
    "    dir_name = os.path.basename(os.path.normpath(images_path))\n",
    "    parent_dir = os.path.dirname(os.path.normpath(images_path))\n",
    "\n",
    "    for subdir in subdirs:\n",
    "        image_arrays = []\n",
    "        subdir_path = os.path.join(images_path, subdir)\n",
    "\n",
    "        for root, dirs, files in os.walk(subdir_path):\n",
    "            for file in tqdm(files, desc=f'Loading images from {subdir}'):\n",
    "                if file.endswith('.jpg'):\n",
    "                    file_path = os.path.join(root, file)\n",
    "                    image_arrays.append(np.array(Image.open(file_path)))\n",
    "\n",
    "        # Serialize the list of numpy arrays with pickle\n",
    "        pickle_file_path = f\"{parent_dir}/{dir_name}_{subdir}.pkl\"\n",
    "        with open(pickle_file_path, 'wb') as f:\n",
    "            pickle.dump(image_arrays, f)\n",
    "\n",
    "\n",
    "load_and_serialize_images('data/augmented_x64')"
   ]
  }
 ],
 "metadata": {
  "kernelspec": {
   "display_name": "URep",
   "language": "python",
   "name": "python3"
  },
  "language_info": {
   "codemirror_mode": {
    "name": "ipython",
    "version": 3
   },
   "file_extension": ".py",
   "mimetype": "text/x-python",
   "name": "python",
   "nbconvert_exporter": "python",
   "pygments_lexer": "ipython3",
   "version": "3.10.14"
  }
 },
 "nbformat": 4,
 "nbformat_minor": 2
}
